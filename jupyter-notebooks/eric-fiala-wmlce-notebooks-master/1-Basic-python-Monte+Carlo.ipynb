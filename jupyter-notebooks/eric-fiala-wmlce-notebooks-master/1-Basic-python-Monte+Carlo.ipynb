{
 "cells": [
  {
   "cell_type": "markdown",
   "metadata": {},
   "source": [
    "# Introduction to Monto Carlo Simulation of a S&P 500-like investment\n",
    "## Starting with 10,000 and investing an additional 10,000 annually, what is the probability that you will have at least 1,000,000 after 30 years of investing in the S&P 500 etf?"
   ]
  },
  {
   "cell_type": "markdown",
   "metadata": {},
   "source": [
    "### 1. import needed libraries, set plots to display in notebook"
   ]
  },
  {
   "cell_type": "code",
   "execution_count": 1,
   "metadata": {},
   "outputs": [
    {
     "data": {
      "text/plain": [
       "'en_CA.UTF-8'"
      ]
     },
     "execution_count": 1,
     "metadata": {},
     "output_type": "execute_result"
    }
   ],
   "source": [
    "import numpy as np\n",
    "from pandas import Series, DataFrame\n",
    "%matplotlib inline\n",
    "import matplotlib.pyplot as plots\n",
    "# allows currency formatting\n",
    "import locale\n",
    "locale.setlocale(locale.LC_ALL, 'en_CA.UTF-8')"
   ]
  },
  {
   "cell_type": "markdown",
   "metadata": {},
   "source": [
    "### 2. A traditional savings calculator approach"
   ]
  },
  {
   "cell_type": "code",
   "execution_count": 2,
   "metadata": {},
   "outputs": [
    {
     "name": "stdout",
     "output_type": "stream",
     "text": [
      "Year 1: $20,700.00\n",
      "Year 2: $32,149.00\n",
      "Year 3: $44,399.43\n",
      "Year 4: $57,507.39\n",
      "Year 5: $71,532.91\n",
      "Year 6: $86,540.21\n",
      "Year 7: $102,598.03\n",
      "Year 8: $119,779.89\n",
      "Year 9: $138,164.48\n",
      "Year 10: $157,835.99\n",
      "Year 11: $178,884.51\n",
      "Year 12: $201,406.43\n",
      "Year 13: $225,504.88\n",
      "Year 14: $251,290.22\n",
      "Year 15: $278,880.54\n",
      "Year 16: $308,402.17\n",
      "Year 17: $339,990.33\n",
      "Year 18: $373,789.65\n",
      "Year 19: $409,954.92\n",
      "Year 20: $448,651.77\n",
      "Year 21: $490,057.39\n",
      "Year 22: $534,361.41\n",
      "Year 23: $581,766.71\n",
      "Year 24: $632,490.38\n",
      "Year 25: $686,764.70\n",
      "Year 26: $744,838.23\n",
      "Year 27: $806,976.91\n",
      "Year 28: $873,465.29\n",
      "Year 29: $944,607.86\n",
      "Year 30: $1,020,730.41\n"
     ]
    }
   ],
   "source": [
    "pv = 10000\n",
    "time_horizon = 30\n",
    "i =.07\n",
    "additions = 10000\n",
    "\n",
    "for year in range(time_horizon):\n",
    "    ending = pv * (1+i) + additions\n",
    "    print(\"Year \" + str(year+1) + \": \" + locale.currency(ending, grouping=True))\n",
    "    pv = ending"
   ]
  },
  {
   "cell_type": "markdown",
   "metadata": {},
   "source": [
    "### 3. Generating one possible future value based on market history; I will use 9% expected return with 18% volatility"
   ]
  },
  {
   "cell_type": "code",
   "execution_count": 3,
   "metadata": {},
   "outputs": [
    {
     "name": "stdout",
     "output_type": "stream",
     "text": [
      "\tReturn     \t\tEnding Value\n",
      "\t-0.0058               \t$19,942.39\n",
      "\t0.2984               \t$35,893.02\n",
      "\t0.0395               \t$47,310.71\n",
      "\t0.3372               \t$73,262.34\n",
      "\t0.2459               \t$101,275.03\n",
      "\t-0.1861               \t$92,426.73\n",
      "\t-0.0935               \t$93,781.63\n",
      "\t-0.0941               \t$94,955.02\n",
      "\t-0.1368               \t$91,965.59\n",
      "\t0.3408               \t$133,310.68\n",
      "\t0.1464               \t$162,821.95\n",
      "\t-0.0827               \t$159,348.86\n",
      "\t0.1139               \t$187,503.10\n",
      "\t-0.1159               \t$175,780.54\n",
      "\t-0.1012               \t$167,985.42\n",
      "\t-0.1012               \t$160,982.21\n",
      "\t0.0985               \t$186,843.46\n",
      "\t-0.2008               \t$159,318.02\n",
      "\t-0.014               \t$167,084.56\n",
      "\t0.1777               \t$206,774.85\n",
      "\t-0.161               \t$183,485.46\n",
      "\t0.1327               \t$217,827.41\n",
      "\t0.1323               \t$256,644.04\n",
      "\t0.2149               \t$321,805.17\n",
      "\t0.146               \t$378,790.16\n",
      "\t0.2092               \t$468,028.11\n",
      "\t0.1248               \t$536,460.22\n",
      "\t0.1321               \t$617,319.95\n",
      "\t-0.012               \t$619,887.71\n",
      "\t-0.0227               \t$615,827.64\n"
     ]
    }
   ],
   "source": [
    "pv = 10000\n",
    "expected_return = .09\n",
    "volatility = .18\n",
    "time_horizon = 30\n",
    "annual_addition = 10000\n",
    "\n",
    "print(\"\\tReturn\", \"\\t\\tEnding Value\".rjust(18))\n",
    "for year in range(time_horizon):\n",
    "    market_return = np.random.normal(expected_return, volatility)\n",
    "    fv = pv * (1 + market_return) + annual_addition\n",
    "    print(\"\\t{}\".ljust(10).format(round(market_return,4)), \"\\t{}\".rjust(10).format(locale.currency(fv, grouping=True)))\n",
    "    pv = fv"
   ]
  },
  {
   "cell_type": "markdown",
   "metadata": {},
   "source": [
    "### 4. Simulate portfolio ending market values"
   ]
  },
  {
   "cell_type": "code",
   "execution_count": 4,
   "metadata": {},
   "outputs": [],
   "source": [
    "sim = DataFrame()\n",
    "iterations = 5000\n",
    "\n",
    "for x in range(iterations):\n",
    "    expected_return = .09\n",
    "    volatility = .18\n",
    "    time_horizon = 30\n",
    "    pv = 10000\n",
    "    annual_investment = 10000\n",
    "    stream = []\n",
    "    for i in range(time_horizon):\n",
    "        end = round(pv * (1 + np.random.normal(expected_return,volatility)) + annual_investment,2)\n",
    "        stream.append(end)\n",
    "        pv = end\n",
    "    sim[x] = stream"
   ]
  },
  {
   "cell_type": "markdown",
   "metadata": {},
   "source": [
    "### 5. Sample first five streams of annual ending values"
   ]
  },
  {
   "cell_type": "code",
   "execution_count": 5,
   "metadata": {},
   "outputs": [
    {
     "data": {
      "text/html": [
       "<div>\n",
       "<style scoped>\n",
       "    .dataframe tbody tr th:only-of-type {\n",
       "        vertical-align: middle;\n",
       "    }\n",
       "\n",
       "    .dataframe tbody tr th {\n",
       "        vertical-align: top;\n",
       "    }\n",
       "\n",
       "    .dataframe thead th {\n",
       "        text-align: right;\n",
       "    }\n",
       "</style>\n",
       "<table border=\"1\" class=\"dataframe\">\n",
       "  <thead>\n",
       "    <tr style=\"text-align: right;\">\n",
       "      <th></th>\n",
       "      <th>0</th>\n",
       "      <th>1</th>\n",
       "      <th>2</th>\n",
       "      <th>3</th>\n",
       "      <th>4</th>\n",
       "    </tr>\n",
       "  </thead>\n",
       "  <tbody>\n",
       "    <tr>\n",
       "      <th>0</th>\n",
       "      <td>18697.15</td>\n",
       "      <td>18905.04</td>\n",
       "      <td>19452.93</td>\n",
       "      <td>21261.47</td>\n",
       "      <td>23381.51</td>\n",
       "    </tr>\n",
       "    <tr>\n",
       "      <th>1</th>\n",
       "      <td>30732.86</td>\n",
       "      <td>28961.84</td>\n",
       "      <td>30060.99</td>\n",
       "      <td>35999.92</td>\n",
       "      <td>38070.54</td>\n",
       "    </tr>\n",
       "    <tr>\n",
       "      <th>2</th>\n",
       "      <td>36967.77</td>\n",
       "      <td>33473.44</td>\n",
       "      <td>41124.81</td>\n",
       "      <td>47637.59</td>\n",
       "      <td>37932.41</td>\n",
       "    </tr>\n",
       "    <tr>\n",
       "      <th>3</th>\n",
       "      <td>53945.91</td>\n",
       "      <td>51689.75</td>\n",
       "      <td>54340.49</td>\n",
       "      <td>69192.39</td>\n",
       "      <td>60214.22</td>\n",
       "    </tr>\n",
       "    <tr>\n",
       "      <th>4</th>\n",
       "      <td>78387.09</td>\n",
       "      <td>66132.73</td>\n",
       "      <td>54535.38</td>\n",
       "      <td>92206.38</td>\n",
       "      <td>75274.83</td>\n",
       "    </tr>\n",
       "    <tr>\n",
       "      <th>5</th>\n",
       "      <td>70524.59</td>\n",
       "      <td>81744.85</td>\n",
       "      <td>64263.28</td>\n",
       "      <td>85859.97</td>\n",
       "      <td>92135.03</td>\n",
       "    </tr>\n",
       "    <tr>\n",
       "      <th>6</th>\n",
       "      <td>102272.71</td>\n",
       "      <td>76532.05</td>\n",
       "      <td>93786.76</td>\n",
       "      <td>109112.28</td>\n",
       "      <td>102305.56</td>\n",
       "    </tr>\n",
       "    <tr>\n",
       "      <th>7</th>\n",
       "      <td>134084.90</td>\n",
       "      <td>86424.23</td>\n",
       "      <td>133808.50</td>\n",
       "      <td>131564.30</td>\n",
       "      <td>124701.79</td>\n",
       "    </tr>\n",
       "    <tr>\n",
       "      <th>8</th>\n",
       "      <td>171046.58</td>\n",
       "      <td>96025.79</td>\n",
       "      <td>117140.67</td>\n",
       "      <td>127918.04</td>\n",
       "      <td>163387.34</td>\n",
       "    </tr>\n",
       "    <tr>\n",
       "      <th>9</th>\n",
       "      <td>190389.04</td>\n",
       "      <td>136834.50</td>\n",
       "      <td>181155.20</td>\n",
       "      <td>134511.98</td>\n",
       "      <td>176760.86</td>\n",
       "    </tr>\n",
       "    <tr>\n",
       "      <th>10</th>\n",
       "      <td>226822.84</td>\n",
       "      <td>149721.43</td>\n",
       "      <td>250468.84</td>\n",
       "      <td>211835.58</td>\n",
       "      <td>177456.31</td>\n",
       "    </tr>\n",
       "    <tr>\n",
       "      <th>11</th>\n",
       "      <td>232439.37</td>\n",
       "      <td>148863.04</td>\n",
       "      <td>272951.54</td>\n",
       "      <td>174506.71</td>\n",
       "      <td>218750.07</td>\n",
       "    </tr>\n",
       "    <tr>\n",
       "      <th>12</th>\n",
       "      <td>340933.45</td>\n",
       "      <td>107793.08</td>\n",
       "      <td>339441.46</td>\n",
       "      <td>149950.50</td>\n",
       "      <td>247216.23</td>\n",
       "    </tr>\n",
       "    <tr>\n",
       "      <th>13</th>\n",
       "      <td>383911.42</td>\n",
       "      <td>104834.16</td>\n",
       "      <td>269003.97</td>\n",
       "      <td>165735.27</td>\n",
       "      <td>365032.45</td>\n",
       "    </tr>\n",
       "    <tr>\n",
       "      <th>14</th>\n",
       "      <td>393854.38</td>\n",
       "      <td>145517.83</td>\n",
       "      <td>261862.62</td>\n",
       "      <td>150809.01</td>\n",
       "      <td>303752.44</td>\n",
       "    </tr>\n",
       "    <tr>\n",
       "      <th>15</th>\n",
       "      <td>452027.33</td>\n",
       "      <td>177642.85</td>\n",
       "      <td>347674.18</td>\n",
       "      <td>166045.37</td>\n",
       "      <td>342603.26</td>\n",
       "    </tr>\n",
       "    <tr>\n",
       "      <th>16</th>\n",
       "      <td>534927.36</td>\n",
       "      <td>191290.82</td>\n",
       "      <td>401889.32</td>\n",
       "      <td>186459.39</td>\n",
       "      <td>451434.59</td>\n",
       "    </tr>\n",
       "    <tr>\n",
       "      <th>17</th>\n",
       "      <td>648447.71</td>\n",
       "      <td>242669.39</td>\n",
       "      <td>432212.43</td>\n",
       "      <td>187010.28</td>\n",
       "      <td>457116.80</td>\n",
       "    </tr>\n",
       "    <tr>\n",
       "      <th>18</th>\n",
       "      <td>832654.78</td>\n",
       "      <td>305157.22</td>\n",
       "      <td>548218.34</td>\n",
       "      <td>226962.21</td>\n",
       "      <td>493509.33</td>\n",
       "    </tr>\n",
       "    <tr>\n",
       "      <th>19</th>\n",
       "      <td>908690.98</td>\n",
       "      <td>368205.69</td>\n",
       "      <td>653582.29</td>\n",
       "      <td>201699.72</td>\n",
       "      <td>558591.13</td>\n",
       "    </tr>\n",
       "    <tr>\n",
       "      <th>20</th>\n",
       "      <td>1116320.52</td>\n",
       "      <td>429123.46</td>\n",
       "      <td>631615.82</td>\n",
       "      <td>277693.46</td>\n",
       "      <td>496187.28</td>\n",
       "    </tr>\n",
       "    <tr>\n",
       "      <th>21</th>\n",
       "      <td>1525401.80</td>\n",
       "      <td>477330.81</td>\n",
       "      <td>529928.58</td>\n",
       "      <td>264027.70</td>\n",
       "      <td>446734.94</td>\n",
       "    </tr>\n",
       "    <tr>\n",
       "      <th>22</th>\n",
       "      <td>1464241.88</td>\n",
       "      <td>689107.88</td>\n",
       "      <td>419167.19</td>\n",
       "      <td>290728.84</td>\n",
       "      <td>520382.64</td>\n",
       "    </tr>\n",
       "    <tr>\n",
       "      <th>23</th>\n",
       "      <td>1429706.75</td>\n",
       "      <td>905927.91</td>\n",
       "      <td>557341.42</td>\n",
       "      <td>308262.52</td>\n",
       "      <td>667443.29</td>\n",
       "    </tr>\n",
       "    <tr>\n",
       "      <th>24</th>\n",
       "      <td>1933811.43</td>\n",
       "      <td>921576.08</td>\n",
       "      <td>601216.61</td>\n",
       "      <td>411780.68</td>\n",
       "      <td>760668.33</td>\n",
       "    </tr>\n",
       "    <tr>\n",
       "      <th>25</th>\n",
       "      <td>2360796.45</td>\n",
       "      <td>1024615.47</td>\n",
       "      <td>703536.11</td>\n",
       "      <td>546614.48</td>\n",
       "      <td>898057.03</td>\n",
       "    </tr>\n",
       "    <tr>\n",
       "      <th>26</th>\n",
       "      <td>2147845.52</td>\n",
       "      <td>1065878.00</td>\n",
       "      <td>763451.93</td>\n",
       "      <td>629148.21</td>\n",
       "      <td>1197389.13</td>\n",
       "    </tr>\n",
       "    <tr>\n",
       "      <th>27</th>\n",
       "      <td>2388391.29</td>\n",
       "      <td>1245982.35</td>\n",
       "      <td>766198.70</td>\n",
       "      <td>763037.92</td>\n",
       "      <td>1641672.82</td>\n",
       "    </tr>\n",
       "    <tr>\n",
       "      <th>28</th>\n",
       "      <td>3026722.51</td>\n",
       "      <td>1780598.48</td>\n",
       "      <td>990018.78</td>\n",
       "      <td>913877.42</td>\n",
       "      <td>1785824.17</td>\n",
       "    </tr>\n",
       "    <tr>\n",
       "      <th>29</th>\n",
       "      <td>3494200.33</td>\n",
       "      <td>1663589.11</td>\n",
       "      <td>978138.29</td>\n",
       "      <td>795598.93</td>\n",
       "      <td>1741009.48</td>\n",
       "    </tr>\n",
       "  </tbody>\n",
       "</table>\n",
       "</div>"
      ],
      "text/plain": [
       "             0           1          2          3           4\n",
       "0     18697.15    18905.04   19452.93   21261.47    23381.51\n",
       "1     30732.86    28961.84   30060.99   35999.92    38070.54\n",
       "2     36967.77    33473.44   41124.81   47637.59    37932.41\n",
       "3     53945.91    51689.75   54340.49   69192.39    60214.22\n",
       "4     78387.09    66132.73   54535.38   92206.38    75274.83\n",
       "5     70524.59    81744.85   64263.28   85859.97    92135.03\n",
       "6    102272.71    76532.05   93786.76  109112.28   102305.56\n",
       "7    134084.90    86424.23  133808.50  131564.30   124701.79\n",
       "8    171046.58    96025.79  117140.67  127918.04   163387.34\n",
       "9    190389.04   136834.50  181155.20  134511.98   176760.86\n",
       "10   226822.84   149721.43  250468.84  211835.58   177456.31\n",
       "11   232439.37   148863.04  272951.54  174506.71   218750.07\n",
       "12   340933.45   107793.08  339441.46  149950.50   247216.23\n",
       "13   383911.42   104834.16  269003.97  165735.27   365032.45\n",
       "14   393854.38   145517.83  261862.62  150809.01   303752.44\n",
       "15   452027.33   177642.85  347674.18  166045.37   342603.26\n",
       "16   534927.36   191290.82  401889.32  186459.39   451434.59\n",
       "17   648447.71   242669.39  432212.43  187010.28   457116.80\n",
       "18   832654.78   305157.22  548218.34  226962.21   493509.33\n",
       "19   908690.98   368205.69  653582.29  201699.72   558591.13\n",
       "20  1116320.52   429123.46  631615.82  277693.46   496187.28\n",
       "21  1525401.80   477330.81  529928.58  264027.70   446734.94\n",
       "22  1464241.88   689107.88  419167.19  290728.84   520382.64\n",
       "23  1429706.75   905927.91  557341.42  308262.52   667443.29\n",
       "24  1933811.43   921576.08  601216.61  411780.68   760668.33\n",
       "25  2360796.45  1024615.47  703536.11  546614.48   898057.03\n",
       "26  2147845.52  1065878.00  763451.93  629148.21  1197389.13\n",
       "27  2388391.29  1245982.35  766198.70  763037.92  1641672.82\n",
       "28  3026722.51  1780598.48  990018.78  913877.42  1785824.17\n",
       "29  3494200.33  1663589.11  978138.29  795598.93  1741009.48"
      ]
     },
     "execution_count": 5,
     "metadata": {},
     "output_type": "execute_result"
    }
   ],
   "source": [
    "first_five = list(range(5))\n",
    "sim[first_five]"
   ]
  },
  {
   "cell_type": "markdown",
   "metadata": {},
   "source": [
    "### 6. Plot first five simulated portfolios"
   ]
  },
  {
   "cell_type": "code",
   "execution_count": 6,
   "metadata": {},
   "outputs": [
    {
     "data": {
      "text/plain": [
       "[<matplotlib.lines.Line2D at 0x20006c73aa58>,\n",
       " <matplotlib.lines.Line2D at 0x20006c73ac50>,\n",
       " <matplotlib.lines.Line2D at 0x20006c73ada0>,\n",
       " <matplotlib.lines.Line2D at 0x20006c73aef0>,\n",
       " <matplotlib.lines.Line2D at 0x20006c748080>]"
      ]
     },
     "execution_count": 6,
     "metadata": {},
     "output_type": "execute_result"
    },
    {
     "data": {
      "image/png": "[encoded data removed]",
      "text/plain": [
       "<Figure size 432x288 with 1 Axes>"
      ]
     },
     "metadata": {
      "needs_background": "light"
     },
     "output_type": "display_data"
    }
   ],
   "source": [
    "plots.plot(sim[first_five])"
   ]
  },
  {
   "cell_type": "markdown",
   "metadata": {},
   "source": [
    "### 7. Generate summary statistics with numpy functions"
   ]
  },
  {
   "cell_type": "code",
   "execution_count": 7,
   "metadata": {},
   "outputs": [
    {
     "name": "stdout",
     "output_type": "stream",
     "text": [
      "Count: 5000\n",
      "Mean:  $1,520,023.38\n",
      "SD:  $1,233,871.54\n",
      "Max:  $20,063,791.75\n",
      "Min:  $116,559.24\n"
     ]
    }
   ],
   "source": [
    "print(\"Count:\", len(sim.loc[29]))\n",
    "print(\"Mean: \", locale.currency(np.mean(sim.loc[29]),grouping=True))\n",
    "print(\"SD: \",locale.currency(np.std(sim.loc[29]),grouping=True))\n",
    "print(\"Max: \",locale.currency(np.max(sim.loc[29]), grouping=True))\n",
    "print(\"Min: \", locale.currency(np.min(sim.loc[29]), grouping=True))"
   ]
  },
  {
   "cell_type": "markdown",
   "metadata": {},
   "source": [
    "### 8. Generating more comprehensive summary statistics with pandas describe function"
   ]
  },
  {
   "cell_type": "code",
   "execution_count": 8,
   "metadata": {},
   "outputs": [
    {
     "data": {
      "text/plain": [
       "count    5.000000e+03\n",
       "mean     1.520023e+06\n",
       "std      1.233995e+06\n",
       "min      1.165592e+05\n",
       "25%      7.655205e+05\n",
       "50%      1.193644e+06\n",
       "75%      1.872561e+06\n",
       "max      2.006379e+07\n",
       "Name: 29, dtype: float64"
      ]
     },
     "execution_count": 8,
     "metadata": {},
     "output_type": "execute_result"
    }
   ],
   "source": [
    "ending_values = sim.loc[29]\n",
    "ending_values.describe()"
   ]
  },
  {
   "cell_type": "markdown",
   "metadata": {},
   "source": [
    "### 9. Get a visualization of the distribution of ending values"
   ]
  },
  {
   "cell_type": "code",
   "execution_count": 9,
   "metadata": {},
   "outputs": [
    {
     "data": {
      "text/plain": [
       "(array([ 92., 426., 577., 605., 598., 500., 393., 342., 257., 213., 184.,\n",
       "        134., 111.,  93.,  64.,  52.,  61.,  42.,  46.,  24.,  29.,  20.,\n",
       "         13.,  17.,  14.,  14.,   6.,  15.,   9.,   5.,   6.,   6.,   4.,\n",
       "          4.,   3.,   3.,   1.,   1.,   1.,   1.,   0.,   1.,   2.,   0.,\n",
       "          2.,   2.,   0.,   0.,   0.,   0.,   0.,   0.,   0.,   0.,   1.,\n",
       "          0.,   0.,   0.,   0.,   0.,   0.,   0.,   1.,   0.,   0.,   0.,\n",
       "          0.,   0.,   0.,   0.,   0.,   0.,   0.,   1.,   0.,   0.,   0.,\n",
       "          0.,   0.,   2.,   0.,   0.,   0.,   0.,   0.,   0.,   0.,   0.,\n",
       "          0.,   0.,   0.,   0.,   0.,   0.,   0.,   0.,   0.,   1.,   0.,\n",
       "          1.]),\n",
       " array([  116559.24  ,   316031.5651,   515503.8902,   714976.2153,\n",
       "          914448.5404,  1113920.8655,  1313393.1906,  1512865.5157,\n",
       "         1712337.8408,  1911810.1659,  2111282.491 ,  2310754.8161,\n",
       "         2510227.1412,  2709699.4663,  2909171.7914,  3108644.1165,\n",
       "         3308116.4416,  3507588.7667,  3707061.0918,  3906533.4169,\n",
       "         4106005.742 ,  4305478.0671,  4504950.3922,  4704422.7173,\n",
       "         4903895.0424,  5103367.3675,  5302839.6926,  5502312.0177,\n",
       "         5701784.3428,  5901256.6679,  6100728.993 ,  6300201.3181,\n",
       "         6499673.6432,  6699145.9683,  6898618.2934,  7098090.6185,\n",
       "         7297562.9436,  7497035.2687,  7696507.5938,  7895979.9189,\n",
       "         8095452.244 ,  8294924.5691,  8494396.8942,  8693869.2193,\n",
       "         8893341.5444,  9092813.8695,  9292286.1946,  9491758.5197,\n",
       "         9691230.8448,  9890703.1699, 10090175.495 , 10289647.8201,\n",
       "        10489120.1452, 10688592.4703, 10888064.7954, 11087537.1205,\n",
       "        11287009.4456, 11486481.7707, 11685954.0958, 11885426.4209,\n",
       "        12084898.746 , 12284371.0711, 12483843.3962, 12683315.7213,\n",
       "        12882788.0464, 13082260.3715, 13281732.6966, 13481205.0217,\n",
       "        13680677.3468, 13880149.6719, 14079621.997 , 14279094.3221,\n",
       "        14478566.6472, 14678038.9723, 14877511.2974, 15076983.6225,\n",
       "        15276455.9476, 15475928.2727, 15675400.5978, 15874872.9229,\n",
       "        16074345.248 , 16273817.5731, 16473289.8982, 16672762.2233,\n",
       "        16872234.5484, 17071706.8735, 17271179.1986, 17470651.5237,\n",
       "        17670123.8488, 17869596.1739, 18069068.499 , 18268540.8241,\n",
       "        18468013.1492, 18667485.4743, 18866957.7994, 19066430.1245,\n",
       "        19265902.4496, 19465374.7747, 19664847.0998, 19864319.4249,\n",
       "        20063791.75  ]),\n",
       " <a list of 100 Patch objects>)"
      ]
     },
     "execution_count": 9,
     "metadata": {},
     "output_type": "execute_result"
    },
    {
     "data": {
      "image/png": "[encoded data removed]",
      "text/plain": [
       "<Figure size 432x288 with 1 Axes>"
      ]
     },
     "metadata": {
      "needs_background": "light"
     },
     "output_type": "display_data"
    }
   ],
   "source": [
    "plots.hist(ending_values, bins=100)"
   ]
  },
  {
   "cell_type": "markdown",
   "metadata": {},
   "source": [
    "### 10. Calculate probability of seeing a specific ending_value or less, for example get close to the 75%ile, or $1,000,000"
   ]
  },
  {
   "cell_type": "code",
   "execution_count": 10,
   "metadata": {},
   "outputs": [
    {
     "data": {
      "text/plain": [
       "0.3964"
      ]
     },
     "execution_count": 10,
     "metadata": {},
     "output_type": "execute_result"
    }
   ],
   "source": [
    "len(ending_values[ending_values<1000000]) / len(ending_values)"
   ]
  },
  {
   "cell_type": "markdown",
   "metadata": {},
   "source": [
    "### 11. You can't really get a point estimate, but you can get a range ending values"
   ]
  },
  {
   "cell_type": "code",
   "execution_count": 11,
   "metadata": {},
   "outputs": [
    {
     "data": {
      "text/plain": [
       "0.1852"
      ]
     },
     "execution_count": 11,
     "metadata": {},
     "output_type": "execute_result"
    }
   ],
   "source": [
    "len(ending_values[(ending_values> 800000) & (ending_values< 1100000)]) /len(ending_values)"
   ]
  },
  {
   "cell_type": "markdown",
   "metadata": {},
   "source": [
    "### 12. You can get a more comprehensive table of percentiles easily using numpy's percentile function"
   ]
  },
  {
   "cell_type": "code",
   "execution_count": 12,
   "metadata": {},
   "outputs": [
    {
     "name": "stdout",
     "output_type": "stream",
     "text": [
      "       5%-ile:  $416,009.47\n",
      "      10%-ile:  $510,091.42\n",
      "      15%-ile:  $603,315.67\n",
      "      25%-ile:  $765,520.49\n",
      "      75%-ile:  $1,872,560.99\n",
      "      85%-ile:  $2,380,363.76\n",
      "      90%-ile:  $2,854,795.13\n",
      "      95%-ile:  $3,752,072.17\n"
     ]
    }
   ],
   "source": [
    "p_tiles = np.percentile(ending_values,[5,10,15,25,75,85,90, 95])\n",
    "for p in range(len(p_tiles)):\n",
    "    l = [5,10,15,25,75,85,90,95]\n",
    "    print( \"{}%-ile: \".format(l[p]).rjust(15),\"{}\".format(locale.currency(p_tiles[p], grouping=True)))"
   ]
  },
  {
   "cell_type": "code",
   "execution_count": null,
   "metadata": {},
   "outputs": [],
   "source": []
  }
 ],
 "metadata": {
  "kernelspec": {
   "display_name": "Python 3",
   "language": "python",
   "name": "python3"
  },
  "language_info": {
   "codemirror_mode": {
    "name": "ipython",
    "version": 3
   },
   "file_extension": ".py",
   "mimetype": "text/x-python",
   "name": "python",
   "nbconvert_exporter": "python",
   "pygments_lexer": "ipython3",
   "version": "3.6.10"
  }
 },
 "nbformat": 4,
 "nbformat_minor": 4
}
